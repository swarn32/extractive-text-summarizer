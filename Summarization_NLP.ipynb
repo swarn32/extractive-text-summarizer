{
 "cells": [
  {
   "cell_type": "code",
   "execution_count": 37,
   "id": "d4b89af6",
   "metadata": {},
   "outputs": [],
   "source": [
    "from nltk.corpus import stopwords\n",
    "from nltk.cluster.util import cosine_distance\n",
    "import numpy as np\n",
    "import networkx as nx"
   ]
  },
  {
   "cell_type": "code",
   "execution_count": 38,
   "id": "787aed5d",
   "metadata": {},
   "outputs": [],
   "source": [
    "def read_article(file_name):\n",
    "    file = open(file_name, \"r\",encoding='utf-8')\n",
    "    filedata = file.readlines()\n",
    "    article = filedata[0].split(\". \")\n",
    "    sentences = []\n",
    "    for sentence in article:\n",
    "     print(sentence)\n",
    "     sentences.append(sentence.replace(\"[^a-zA-Z]\", \" \").split(\" \"))\n",
    "    sentences.pop() \n",
    "    \n",
    "    return sentences"
   ]
  },
  {
   "cell_type": "code",
   "execution_count": 39,
   "id": "87b64c66",
   "metadata": {},
   "outputs": [],
   "source": [
    "def sentence_similarity(sent1, sent2, stopwords=None):\n",
    "    if stopwords is None:\n",
    "        stopwords = []\n",
    " \n",
    "    sent1 = [w.lower() for w in sent1]\n",
    "    sent2 = [w.lower() for w in sent2]\n",
    "    \n",
    "    all_words = list(set(sent1 + sent2))\n",
    " \n",
    "    vector1 = [0] * len(all_words)\n",
    "    vector2 = [0] * len(all_words)\n",
    " \n",
    "    # build the vector for the first sentence\n",
    "    for w in sent1:\n",
    "        if w in stopwords:\n",
    "            continue\n",
    "        vector1[all_words.index(w)] += 1\n",
    " \n",
    "    # build the vector for the second sentence\n",
    "    for w in sent2:\n",
    "        if w in stopwords:\n",
    "            continue\n",
    "        vector2[all_words.index(w)] += 1\n",
    " \n",
    "    return 1 - cosine_distance(vector1, vector2)"
   ]
  },
  {
   "cell_type": "code",
   "execution_count": 40,
   "id": "668fb304",
   "metadata": {},
   "outputs": [],
   "source": [
    "def build_similarity_matrix(sentences, stop_words):\n",
    "    # Create an empty similarity matrix\n",
    "    similarity_matrix = np.zeros((len(sentences), len(sentences)))\n",
    " \n",
    "    for idx1 in range(len(sentences)):\n",
    "        for idx2 in range(len(sentences)):\n",
    "            if idx1 == idx2: #ignore if both are same sentences\n",
    "                continue \n",
    "            similarity_matrix[idx1][idx2] = sentence_similarity(sentences[idx1], sentences[idx2], stop_words)\n",
    "    return similarity_matrix"
   ]
  },
  {
   "cell_type": "code",
   "execution_count": 41,
   "id": "e54c3251",
   "metadata": {},
   "outputs": [],
   "source": [
    "def generate_summary(file_name, top_n=5):\n",
    "    stop_words = stopwords.words('english')\n",
    "    summarize_text = []\n",
    "    # Step 1 - Read text and tokenize\n",
    "    sentences =  read_article(file_name)\n",
    "    # Step 2 - Generate Similary Martix across sentences\n",
    "    sentence_similarity_martix = build_similarity_matrix(sentences, stop_words)\n",
    "    # Step 3 - Rank sentences in similarity martix\n",
    "    sentence_similarity_graph = nx.from_numpy_array(sentence_similarity_martix)\n",
    "    scores = nx.pagerank(sentence_similarity_graph)\n",
    "    # Step 4 - Sort the rank and pick top sentences\n",
    "    ranked_sentence = sorted(((scores[i],s) for i,s in enumerate(sentences)), reverse=True)    \n",
    "    print(\"Indexes of top ranked_sentence order are \", ranked_sentence)\n",
    "    for i in range(top_n):\n",
    "      summarize_text.append(\" \".join(ranked_sentence[i][1]))\n",
    "    # Step 5 - Offcourse, output the summarize texr\n",
    "    print(\"Summarize Text: \\n\", \". \".join(summarize_text)) "
   ]
  },
  {
   "cell_type": "code",
   "execution_count": 44,
   "id": "c5fb31d4",
   "metadata": {},
   "outputs": [
    {
     "name": "stdout",
     "output_type": "stream",
     "text": [
      "One of the things the German engineering consistently gets right is their ability to tune their cars just spot-on\n",
      "If we speak about luxury in motoring world, can we ignore the German trio- Mercedes, BMW & Audi? These are competing with one another in every market and micro-market for dominance\n",
      "The rivalry now has grown above sales number\n",
      "It’s now about performance, bhp and customer satisfaction\n",
      "These brands have therefore came with sub-brands to out-perform so strong which will improve the brand image of a company\n",
      "Which is why these German giants are constantly trying to out-engineer each other with their high-performance sub-brands\n",
      "And what do the buyers get out of it? They get the horsepower supremacy, breakneck acceleration and cutting-edge technology\n",
      "Mercedes introduced AMG, BMW came with M-Performance and Audi has it’s RS\n",
      "Let’s get rolling! AMG is the high performance subsidiary of Mercedes-Benz and is in business since 1967\n",
      "AGM operates independently and has been tuning high performance cars even before merging with Merc\n",
      "So AMG stands for Aufrecht Melcher Grossaspach, the name of two partners and city they started from respectively\n",
      "It also has the widest range of cars to offer\n",
      "Have a glance below\n",
      "AMG focuses on engines as against BMW’s M\n",
      "AMG engines have more power and torque than the rival makes\n",
      "Most AMG powered cars can go really fast in a straight line and typically sound very amazing\n",
      "While the AMGs are the most famous and diversified, the M-Series (M stands for Motorsport) are definitely the better driving machines\n",
      "“BMW is a sporty brand and M is the sporty edge of it,” Friedrich Nitschke, president of BMW M GmbH said\n",
      "M-Series was formed in 1972 as a special Motorsports division and unlike AMG M-series are tested and tuned at the BMW’s private facility\n",
      "When developing a new car AMG focuses more on the engine\n",
      "BMW M is the complete opposite, they build the car first and the engine second\n",
      "This is because BMW M focuses more on the driving experience\n",
      "Their Ultimate Driving Machine slogan is testament thereto\n",
      "In terms of innovation as well M-Performance has been leading the way for quite some times\n",
      "That’s how they’ve managed to close the gap between them and AMG in such a relatively short space of time\n",
      "Step out of an M, and the smile will be broader than usual\n",
      "If you’re nodding your head along as you read this, you know what I mean! Audi RS is actually a high performance variant of cars and not exactly a sub-brand\n",
      "This is because Audi already has Quattro as a sub-brand which makes sportier cars\n",
      "RS stands for Racing Sport, and is the youngest among the three, established only in 1983\n",
      "Audi has been providing RS badging only in Europe until 2011 due to this the RS lineup is microscale in global market\n",
      "The Quattro and Sportback edition in Audi’s lineup does make the cars sportier but they are not of any performance cars standard likewise AMG and M-Series\n",
      "A relatively new segment with only a limited number of vehicles and limited presence has left Audi lagging behind\n",
      "Audi is now using racing platforms like the other two rivals to strengthen the RS visibility\n",
      "Interestingly, Audi is the only brand which offers RS version in it’s EV lineup as well which is yet to be competed by the rivals.Concluding this piece with a good news! India now has its own state-of-art testing track, NATRAX developed by Government of India near Indore\n",
      "It is Asia’s largest proving ground for 2W, 3W & 4W and an absolute marvel of civil engineering\n",
      "All these performance cars can now be tested here\n",
      "It offers high speed tracks, dynamic platforms, wet skid plate and many more.\n",
      "Indexes of top ranked_sentence order are  [(0.06082943457677303, ['The', 'Quattro', 'and', 'Sportback', 'edition', 'in', 'Audi’s', 'lineup', 'does', 'make', 'the', 'cars', 'sportier', 'but', 'they', 'are', 'not', 'of', 'any', 'performance', 'cars', 'standard', 'likewise', 'AMG', 'and', 'M-Series']), (0.056313639595263906, ['Mercedes', 'introduced', 'AMG,', 'BMW', 'came', 'with', 'M-Performance', 'and', 'Audi', 'has', 'it’s', 'RS']), (0.048249094686187585, ['If', 'you’re', 'nodding', 'your', 'head', 'along', 'as', 'you', 'read', 'this,', 'you', 'know', 'what', 'I', 'mean!', 'Audi', 'RS', 'is', 'actually', 'a', 'high', 'performance', 'variant', 'of', 'cars', 'and', 'not', 'exactly', 'a', 'sub-brand']), (0.04765024190352467, ['All', 'these', 'performance', 'cars', 'can', 'now', 'be', 'tested', 'here']), (0.04642299123399168, ['This', 'is', 'because', 'Audi', 'already', 'has', 'Quattro', 'as', 'a', 'sub-brand', 'which', 'makes', 'sportier', 'cars']), (0.04628972696936553, ['AMG', 'focuses', 'on', 'engines', 'as', 'against', 'BMW’s', 'M']), (0.044663495663778044, ['When', 'developing', 'a', 'new', 'car', 'AMG', 'focuses', 'more', 'on', 'the', 'engine']), (0.039622550291265, ['This', 'is', 'because', 'BMW', 'M', 'focuses', 'more', 'on', 'the', 'driving', 'experience']), (0.0384229543396257, ['Let’s', 'get', 'rolling!', 'AMG', 'is', 'the', 'high', 'performance', 'subsidiary', 'of', 'Mercedes-Benz', 'and', 'is', 'in', 'business', 'since', '1967']), (0.03689932591216609, ['Most', 'AMG', 'powered', 'cars', 'can', 'go', 'really', 'fast', 'in', 'a', 'straight', 'line', 'and', 'typically', 'sound', 'very', 'amazing']), (0.0364766028054616, ['Audi', 'has', 'been', 'providing', 'RS', 'badging', 'only', 'in', 'Europe', 'until', '2011', 'due', 'to', 'this', 'the', 'RS', 'lineup', 'is', 'microscale', 'in', 'global', 'market']), (0.03281767347220141, ['AGM', 'operates', 'independently', 'and', 'has', 'been', 'tuning', 'high', 'performance', 'cars', 'even', 'before', 'merging', 'with', 'Merc']), (0.03265337560499994, ['Audi', 'is', 'now', 'using', 'racing', 'platforms', 'like', 'the', 'other', 'two', 'rivals', 'to', 'strengthen', 'the', 'RS', 'visibility']), (0.032615122889496376, ['AMG', 'engines', 'have', 'more', 'power', 'and', 'torque', 'than', 'the', 'rival', 'makes']), (0.03242618528325921, ['Interestingly,', 'Audi', 'is', 'the', 'only', 'brand', 'which', 'offers', 'RS', 'version', 'in', 'it’s', 'EV', 'lineup', 'as', 'well', 'which', 'is', 'yet', 'to', 'be', 'competed', 'by', 'the', 'rivals.Concluding', 'this', 'piece', 'with', 'a', 'good', 'news!', 'India', 'now', 'has', 'its', 'own', 'state-of-art', 'testing', 'track,', 'NATRAX', 'developed', 'by', 'Government', 'of', 'India', 'near', 'Indore']), (0.03235575981389878, ['One', 'of', 'the', 'things', 'the', 'German', 'engineering', 'consistently', 'gets', 'right', 'is', 'their', 'ability', 'to', 'tune', 'their', 'cars', 'just', 'spot-on']), (0.029311206310260816, ['M-Series', 'was', 'formed', 'in', '1972', 'as', 'a', 'special', 'Motorsports', 'division', 'and', 'unlike', 'AMG', 'M-series', 'are', 'tested', 'and', 'tuned', 'at', 'the', 'BMW’s', 'private', 'facility']), (0.02743937904142333, ['So', 'AMG', 'stands', 'for', 'Aufrecht', 'Melcher', 'Grossaspach,', 'the', 'name', 'of', 'two', 'partners', 'and', 'city', 'they', 'started', 'from', 'respectively']), (0.02686795884684927, ['It', 'also', 'has', 'the', 'widest', 'range', 'of', 'cars', 'to', 'offer']), (0.025262545997155737, ['A', 'relatively', 'new', 'segment', 'with', 'only', 'a', 'limited', 'number', 'of', 'vehicles', 'and', 'limited', 'presence', 'has', 'left', 'Audi', 'lagging', 'behind']), (0.024196084825840146, ['If', 'we', 'speak', 'about', 'luxury', 'in', 'motoring', 'world,', 'can', 'we', 'ignore', 'the', 'German', 'trio-', 'Mercedes,', 'BMW', '&', 'Audi?', 'These', 'are', 'competing', 'with', 'one', 'another', 'in', 'every', 'market', 'and', 'micro-market', 'for', 'dominance']), (0.02360665223565024, ['That’s', 'how', 'they’ve', 'managed', 'to', 'close', 'the', 'gap', 'between', 'them', 'and', 'AMG', 'in', 'such', 'a', 'relatively', 'short', 'space', 'of', 'time']), (0.023513419359898327, ['RS', 'stands', 'for', 'Racing', 'Sport,', 'and', 'is', 'the', 'youngest', 'among', 'the', 'three,', 'established', 'only', 'in', '1983']), (0.022564524066490538, ['BMW', 'M', 'is', 'the', 'complete', 'opposite,', 'they', 'build', 'the', 'car', 'first', 'and', 'the', 'engine', 'second']), (0.020632803005087484, ['While', 'the', 'AMGs', 'are', 'the', 'most', 'famous', 'and', 'diversified,', 'the', 'M-Series', '(M', 'stands', 'for', 'Motorsport)', 'are', 'definitely', 'the', 'better', 'driving', 'machines']), (0.018204857905388817, ['“BMW', 'is', 'a', 'sporty', 'brand', 'and', 'M', 'is', 'the', 'sporty', 'edge', 'of', 'it,”', 'Friedrich', 'Nitschke,', 'president', 'of', 'BMW', 'M', 'GmbH', 'said']), (0.015327325514928708, ['These', 'brands', 'have', 'therefore', 'came', 'with', 'sub-brands', 'to', 'out-perform', 'so', 'strong', 'which', 'will', 'improve', 'the', 'brand', 'image', 'of', 'a', 'company']), (0.01385466538937707, ['Which', 'is', 'why', 'these', 'German', 'giants', 'are', 'constantly', 'trying', 'to', 'out-engineer', 'each', 'other', 'with', 'their', 'high-performance', 'sub-brands']), (0.01239240159292569, ['Their', 'Ultimate', 'Driving', 'Machine', 'slogan', 'is', 'testament', 'thereto']), (0.010103668683823251, ['It’s', 'now', 'about', 'performance,', 'bhp', 'and', 'customer', 'satisfaction']), (0.008903528634842745, ['In', 'terms', 'of', 'innovation', 'as', 'well', 'M-Performance', 'has', 'been', 'leading', 'the', 'way', 'for', 'quite', 'some', 'times']), (0.008393421677132872, ['It', 'is', 'Asia’s', 'largest', 'proving', 'ground', 'for', '2W,', '3W', '&', '4W', 'and', 'an', 'absolute', 'marvel', 'of', 'civil', 'engineering']), (0.008011793506011153, ['The', 'rivalry', 'now', 'has', 'grown', 'above', 'sales', 'number']), (0.007959232680524269, ['And', 'what', 'do', 'the', 'buyers', 'get', 'out', 'of', 'it?', 'They', 'get', 'the', 'horsepower', 'supremacy,', 'breakneck', 'acceleration', 'and', 'cutting-edge', 'technology']), (0.004373177842565599, ['Step', 'out', 'of', 'an', 'M,', 'and', 'the', 'smile', 'will', 'be', 'broader', 'than', 'usual']), (0.004373177842565599, ['Have', 'a', 'glance', 'below'])]\n",
      "Summarize Text: \n",
      " The Quattro and Sportback edition in Audi’s lineup does make the cars sportier but they are not of any performance cars standard likewise AMG and M-Series. Mercedes introduced AMG, BMW came with M-Performance and Audi has it’s RS. If you’re nodding your head along as you read this, you know what I mean! Audi RS is actually a high performance variant of cars and not exactly a sub-brand. All these performance cars can now be tested here. This is because Audi already has Quattro as a sub-brand which makes sportier cars. AMG focuses on engines as against BMW’s M. When developing a new car AMG focuses more on the engine. This is because BMW M focuses more on the driving experience. Let’s get rolling! AMG is the high performance subsidiary of Mercedes-Benz and is in business since 1967. Most AMG powered cars can go really fast in a straight line and typically sound very amazing\n"
     ]
    }
   ],
   "source": [
    "generate_summary( \"sum2.txt\", 10)"
   ]
  },
  {
   "cell_type": "code",
   "execution_count": null,
   "id": "e7408096",
   "metadata": {},
   "outputs": [],
   "source": []
  }
 ],
 "metadata": {
  "kernelspec": {
   "display_name": "Python 3",
   "language": "python",
   "name": "python3"
  },
  "language_info": {
   "codemirror_mode": {
    "name": "ipython",
    "version": 3
   },
   "file_extension": ".py",
   "mimetype": "text/x-python",
   "name": "python",
   "nbconvert_exporter": "python",
   "pygments_lexer": "ipython3",
   "version": "3.8.8"
  }
 },
 "nbformat": 4,
 "nbformat_minor": 5
}
